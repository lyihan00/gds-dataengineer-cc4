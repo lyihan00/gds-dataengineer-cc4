{
 "cells": [
  {
   "cell_type": "code",
   "execution_count": 1,
   "metadata": {},
   "outputs": [],
   "source": [
    "import pandas as pd\n",
    "import json\n",
    "\n",
    "pd.set_option.max_rows = 999\n",
    "pd.set_option.max_columns = 999\n",
    "\n",
    "with open('restaurant_data.json') as f:\n",
    "    data = json.load(f)"
   ]
  },
  {
   "cell_type": "code",
   "execution_count": 2,
   "metadata": {},
   "outputs": [
    {
     "name": "stdout",
     "output_type": "stream",
     "text": [
      "     restaurant_id              restaurant_name  country_id       city   \n",
      "0         18649486         The Drunken Botanist           1    Gurgaon  \\\n",
      "1           308322             Hauz Khas Social           1  New Delhi   \n",
      "2         18856789         AIR- An Ivory Region           1  New Delhi   \n",
      "3           307374                     AMA Cafe           1  New Delhi   \n",
      "4         18238278                      Tamasha           1  New Delhi   \n",
      "...            ...                          ...         ...        ...   \n",
      "1295       7900186                       Mexico         148   Hamilton   \n",
      "1296       7900182           Thai House Express         148   Hamilton   \n",
      "1297       7900023                  Indian Star         148   Hamilton   \n",
      "1298       7900490           Zealong Tea Estate         148   Hamilton   \n",
      "1299       7900115  The Flying Burrito Brothers         148   Hamilton   \n",
      "\n",
      "     user_rating_votes user_aggregate_rating   \n",
      "0                 4765                   4.4  \\\n",
      "1                13627                   4.6   \n",
      "2                 1819                   4.1   \n",
      "3                 3252                   4.4   \n",
      "4                 8112                   4.4   \n",
      "...                ...                   ...   \n",
      "1295               100                   4.2   \n",
      "1296                51                   4.0   \n",
      "1297                63                   3.8   \n",
      "1298                55                   4.7   \n",
      "1299                58                   3.9   \n",
      "\n",
      "                                               cuisines  \n",
      "0           Continental, Italian, North Indian, Chinese  \n",
      "1     Continental, American, Asian, North Indian, Ch...  \n",
      "2             North Indian, Chinese, Continental, Asian  \n",
      "3                                          Cafe, Juices  \n",
      "4       Finger Food, North Indian, Continental, Italian  \n",
      "...                                                 ...  \n",
      "1295                                            Mexican  \n",
      "1296                                               Thai  \n",
      "1297                               North Indian, Indian  \n",
      "1298                          European, Asian, Desserts  \n",
      "1299                                            Mexican  \n",
      "\n",
      "[1300 rows x 7 columns]\n"
     ]
    }
   ],
   "source": [
    "# Task 1.1\n",
    "restaurants = []\n",
    "for entry in data:\n",
    "    for restaurant_entry in entry.get('restaurants', []):\n",
    "        e = restaurant_entry['restaurant']\n",
    "        restaurant = {\n",
    "            'restaurant_id': e['id'],\n",
    "            'restaurant_name': e['name'],\n",
    "            'country_id': e['location']['country_id'],\n",
    "            'city': e['location']['city'],\n",
    "            'user_rating_votes': e['user_rating']['votes'],\n",
    "            'user_aggregate_rating': e['user_rating']['aggregate_rating'],\n",
    "            'cuisines': e['cuisines']\n",
    "        }\n",
    "        restaurants.append(restaurant)\n",
    "\n",
    "restaurants_df = pd.DataFrame(restaurants)\n",
    "print(restaurants_df)\n"
   ]
  },
  {
   "cell_type": "code",
   "execution_count": 3,
   "metadata": {},
   "outputs": [],
   "source": [
    "country_code_df = pd.read_excel('Country-Code.xlsx')\n",
    "\n",
    "merged_df = pd.merge(restaurants_df, country_code_df, how='left', left_on='country_id', right_on='Country Code')\n",
    "\n",
    "merged_df.drop(columns=['country_id', 'Country Code'], inplace=True)\n",
    "merged_df.to_csv('restaurants.csv', index=False)"
   ]
  },
  {
   "cell_type": "code",
   "execution_count": 8,
   "metadata": {},
   "outputs": [
    {
     "name": "stdout",
     "output_type": "stream",
     "text": [
      "event_id            0\n",
      "restaurant_id       0\n",
      "restaurant_name     0\n",
      "photo_url           0\n",
      "event_title         0\n",
      "event_start_date    0\n",
      "event_end_date      0\n",
      "dtype: int64\n",
      "     event_id restaurant_id                 restaurant_name   \n",
      "0      322331      18649486            The Drunken Botanist  \\\n",
      "1      332812        308322                Hauz Khas Social   \n",
      "2      336644      18856789            AIR- An Ivory Region   \n",
      "3      336890      18382360                           Local   \n",
      "4      336894      18382360                           Local   \n",
      "..        ...           ...                             ...   \n",
      "201    305850       7001670  Eight - Cordis, Auckland Hotel   \n",
      "202    298162       7001670  Eight - Cordis, Auckland Hotel   \n",
      "203    329300      18981544                        Katsu YA   \n",
      "204    329301      18981544                        Katsu YA   \n",
      "205    335217      18680113            The Cutt Grill House   \n",
      "\n",
      "                                             photo_url   \n",
      "0    https://b.zmtcdn.com/data/zomato_events/photos...  \\\n",
      "1    https://b.zmtcdn.com/data/zomato_events/photos...   \n",
      "2    https://b.zmtcdn.com/data/zomato_events/photos...   \n",
      "3    https://b.zmtcdn.com/data/zomato_events/photos...   \n",
      "4    https://b.zmtcdn.com/data/zomato_events/photos...   \n",
      "..                                                 ...   \n",
      "201  https://b.zmtcdn.com/data/zomato_events/photos...   \n",
      "202  https://b.zmtcdn.com/data/zomato_events/photos...   \n",
      "203  https://b.zmtcdn.com/data/zomato_events/photos...   \n",
      "204  https://b.zmtcdn.com/data/zomato_events/photos...   \n",
      "205  https://b.zmtcdn.com/data/zomato_events/photos...   \n",
      "\n",
      "                         event_title event_start_date event_end_date  \n",
      "0    BackToBasic Wednesdays !!\\n\\n\\n       2019-03-06     2019-08-28  \n",
      "1        Live 20/20 Match Screenings       2019-03-29     2019-05-23  \n",
      "2                 Dhol Bhangra Night       2019-04-10     2019-04-11  \n",
      "3                 Cocktail Wednesday       2019-04-10     2019-04-10  \n",
      "4                     Hip Hop Friday       2019-04-12     2019-04-12  \n",
      "..                               ...              ...            ...  \n",
      "201                  Smoky Thursdays       2019-03-01     2019-04-30  \n",
      "202               Chocolate Tuesdays       2019-04-05     2019-08-21  \n",
      "203              Review us on Zomato       2019-03-22     2019-04-30  \n",
      "204                    Opening Promo       2019-03-22     2019-04-30  \n",
      "205               Knowledge is power       2019-04-04     2019-06-01  \n",
      "\n",
      "[158 rows x 7 columns]\n"
     ]
    }
   ],
   "source": [
    "# Task 1.2\n",
    "restaurant_events = []\n",
    "for entry in data:\n",
    "    for restaurant_entry in entry.get('restaurants', []):\n",
    "        e = restaurant_entry['restaurant']\n",
    "        for zomato_event in e.get('zomato_events', []):\n",
    "            event = zomato_event['event']\n",
    "            for photos in event.get('photos', []):\n",
    "                photo = photos['photo']\n",
    "                \n",
    "                restaurant_event = {\n",
    "                    'event_id': event['event_id'],\n",
    "                    'restaurant_id': e['id'],\n",
    "                    'restaurant_name': e['name'],\n",
    "                    'photo_url': photo['url'],\n",
    "                    'event_title': event['title'],\n",
    "                    'event_start_date': event['start_date'],\n",
    "                    'event_end_date': event['end_date']\n",
    "                }\n",
    "\n",
    "                restaurant_events.append(restaurant_event)\n",
    "\n",
    "restaurant_events_df = pd.DataFrame(restaurant_events)\n",
    "\n",
    "# Convert event_start_date and event_end_date to datetime objects\n",
    "restaurant_events_df['event_start_date'] = pd.to_datetime(restaurant_events_df['event_start_date'])\n",
    "restaurant_events_df['event_end_date'] = pd.to_datetime(restaurant_events_df['event_end_date'])\n",
    "\n",
    "# Start date <= April 2019 and end date >= April 2019\n",
    "filter = (restaurant_events_df['event_start_date'].dt.month <= 4) & (restaurant_events_df['event_start_date'].dt.year <= 2019) & \\\n",
    "       (restaurant_events_df['event_end_date'].dt.month >= 4) & (restaurant_events_df['event_end_date'].dt.year >= 2019)\n",
    "\n",
    "restaurant_events = restaurant_events_df[filter]\n",
    "\n",
    "print(restaurant_events.isna().sum())\n",
    "print(restaurant_events)"
   ]
  },
  {
   "cell_type": "code",
   "execution_count": 7,
   "metadata": {},
   "outputs": [],
   "source": [
    "restaurant_events.to_csv('restaurant_events.csv', index=False)"
   ]
  },
  {
   "cell_type": "code",
   "execution_count": 13,
   "metadata": {},
   "outputs": [
    {
     "name": "stdout",
     "output_type": "stream",
     "text": [
      "     aggregate_rating rating_text\n",
      "0                 4.4   Very Good\n",
      "1                 4.6   Excellent\n",
      "2                 4.1   Very Good\n",
      "3                 4.4   Very Good\n",
      "4                 4.4   Very Good\n",
      "...               ...         ...\n",
      "1295              4.2   Very Good\n",
      "1296              4.0   Very Good\n",
      "1297              3.8        Good\n",
      "1298              4.7   Excellent\n",
      "1299              3.9        Good\n",
      "\n",
      "[1300 rows x 2 columns]\n"
     ]
    }
   ],
   "source": [
    "# Task 1.3\n",
    "user_ratings = []\n",
    "for entry in data:\n",
    "    for restaurant_entry in entry.get('restaurants', []):\n",
    "        e = restaurant_entry['restaurant']\n",
    "        rating = e['user_rating']\n",
    "        user_rating = {\n",
    "            'aggregate_rating': rating['aggregate_rating'],\n",
    "            'rating_text': rating['rating_text']\n",
    "        }\n",
    "        user_ratings.append(user_rating)\n",
    "\n",
    "user_ratings_df = pd.DataFrame(user_ratings)\n",
    "print(user_ratings_df)\n"
   ]
  },
  {
   "cell_type": "code",
   "execution_count": 21,
   "metadata": {},
   "outputs": [
    {
     "name": "stdout",
     "output_type": "stream",
     "text": [
      "             min  max\n",
      "rating_text          \n",
      "Average      2.5  3.4\n",
      "Excellent    4.5  4.9\n",
      "Good         3.5  3.9\n",
      "Poor         2.2  2.2\n",
      "Very Good    4.0  4.4\n"
     ]
    }
   ],
   "source": [
    "# Find Threshold\n",
    "selected_ratings = ['Excellent', 'Very Good', 'Good', 'Average', 'Poor']\n",
    "\n",
    "filtered_user_ratings_df = user_ratings_df[user_ratings_df['rating_text'].isin(selected_ratings)]\n",
    "\n",
    "rating_ranges = filtered_user_ratings_df.groupby('rating_text')['aggregate_rating'].agg(['min', 'max'])\n",
    "\n",
    "print(rating_ranges)"
   ]
  },
  {
   "cell_type": "markdown",
   "metadata": {},
   "source": [
    "Rating Thresholds:\n",
    "- Excellent: 4.5\n",
    "- Very Good: 4.0\n",
    "- Good: 3.5\n",
    "- Average: 2.5\n",
    "- Poor: 2.2"
   ]
  }
 ],
 "metadata": {
  "kernelspec": {
   "display_name": "Python 3",
   "language": "python",
   "name": "python3"
  },
  "language_info": {
   "codemirror_mode": {
    "name": "ipython",
    "version": 3
   },
   "file_extension": ".py",
   "mimetype": "text/x-python",
   "name": "python",
   "nbconvert_exporter": "python",
   "pygments_lexer": "ipython3",
   "version": "3.11.3"
  }
 },
 "nbformat": 4,
 "nbformat_minor": 2
}
